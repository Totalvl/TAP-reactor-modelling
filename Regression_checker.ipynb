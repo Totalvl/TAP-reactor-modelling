{
 "cells": [
  {
   "cell_type": "code",
   "execution_count": null,
   "id": "ea0e419c",
   "metadata": {},
   "outputs": [],
   "source": [
    "%load_ext autoreload\n",
    "import warnings\n",
    "warnings.filterwarnings('ignore')"
   ]
  },
  {
   "cell_type": "code",
   "execution_count": null,
   "id": "1094c792",
   "metadata": {},
   "outputs": [],
   "source": [
    "import models.regress as rgr"
   ]
  },
  {
   "cell_type": "code",
   "execution_count": null,
   "id": "e7903660",
   "metadata": {},
   "outputs": [],
   "source": [
    "%autoreload 2\n",
    "import numpy as np\n",
    "import matplotlib.pyplot as plt\n",
    "import models.equilibr as eq\n",
    "# import models.microAD as mad\n",
    "import models.adsdesNonLin as ad\n",
    "import models.adsdesLin as adl\n",
    "import models.equilibrCopy1 as eq1\n",
    "import models.equilibrCopy2 as eq2\n",
    "import models.equilibrCopy3 as eq3\n",
    "import models.prototypes as pt\n",
    "import models.Ansol as an\n",
    "import models.SurfBar as sb"
   ]
  },
  {
   "cell_type": "code",
   "execution_count": null,
   "id": "2ca025ad",
   "metadata": {},
   "outputs": [],
   "source": [
    "D1=1e-3\n",
    "D2=1e-4\n",
    "ka = 100\n",
    "kd = 1000\n",
    "Dp = 1e-10\n",
    "k_ent = 10\n",
    "k_ext = 1000\n",
    "ka_int = 100\n",
    "kd_int = 1000\n",
    "opts={}\n",
    "# pars=[ka, kd]\n",
    "pars=[ka, kd, k_ent, k_ext, ka_int, kd_int, Dp]\n",
    "opts['length'] = np.array([0.0232, 0.002, 0.0232])     # List of zone lengths, m \n",
    "opts['porosity'] = 0.4                       # List of zone porosities\n",
    "opts['microporosity'] = 0.4\n",
    "opts['Surface per weight'] = 33 * 1000                  # Surface-to-weight ratio for the microporous particles, m2/kg\n",
    "opts['AS concentration'] = 0.29  # Concentration of active cites mol/kg\n",
    "opts['AS concentration within particle'] = 0.1\n",
    "opts['cross_section'] = 1.26e-5\n",
    "opts['T'] = 273+300\n",
    "opts['Tref'] = 298.15\n",
    "opts['Np'] = 1e-9\n",
    "opts['Mref'] = 19.9\n",
    "opts['M'] = 40.9\n",
    "opts['micropore_Rp'] = 1.75e-6 / 2                      # Characteristic length of micropore diffusion, m\n",
    "opts['dr'] = opts['micropore_Rp'] / 100\n",
    "opts['Unit-layer thickness'] = 1e-9\n",
    "\n",
    "opts['Sample mass'] = 16.4e-6                            # catalyst weight, kg\n",
    "opts['Dref zones'] = [D1, D2, D1]\n",
    "opts['Surface adsorption/desorption constants'] = [ka, kd]"
   ]
  },
  {
   "cell_type": "code",
   "execution_count": null,
   "id": "e6525e73-533e-4fd2-94e7-191d5f1ac468",
   "metadata": {},
   "outputs": [],
   "source": [
    "pars = [-3, -4, -3]\n",
    "np.power(10.0, [pars[0], pars[1], pars[0]]) "
   ]
  },
  {
   "cell_type": "code",
   "execution_count": null,
   "id": "95eab03e-9d64-4faa-8478-e742ffa0d8f0",
   "metadata": {},
   "outputs": [],
   "source": [
    "sim_data_TM = pt.pulse(pars=pars, opts=opts, model = 'Diff_3Z', T=5, dt=0.001)"
   ]
  },
  {
   "cell_type": "code",
   "execution_count": null,
   "id": "f6741a38-63d1-4384-84ad-1f641109bf12",
   "metadata": {},
   "outputs": [],
   "source": [
    "%matplotlib notebook\n",
    "%matplotlib inline \n",
    "plt.plot(sim_data_TM[0], sim_data_TM[1], 'b-', label = 'TM sim pulse')\n",
    "# plt.plot(sim_data_num['time'], sim_data_num['Flow']/1e-9, 'r-', label = 'Numerical sim pulse')\n",
    "plt.legend()\n",
    "plt.show()"
   ]
  },
  {
   "cell_type": "code",
   "execution_count": null,
   "id": "27e81a49-2c91-4e88-8529-ab21cc552104",
   "metadata": {},
   "outputs": [],
   "source": [
    "k = np.linspace(200,400,5)\n",
    "j = np.linspace(0,100,20)\n",
    "b = np.append(k, j)\n",
    "np.arange(len(b))"
   ]
  },
  {
   "cell_type": "code",
   "execution_count": null,
   "id": "c07cae57-0363-447f-99c8-05df40e755e9",
   "metadata": {},
   "outputs": [],
   "source": [
    "temps = np.linspace(200,400,5)\n",
    "times = [np.linspace(0,1,1001) for _ in range(len(temps))]\n",
    "TD_pars = [3, 20,  12, 90, -11, 40]\n",
    "TD_pars = [-2, -3]\n",
    "flows = rgr.simulate_multiresponse_TM(times, TD_pars, temps, opts, model = 'Diff_3Z')\n"
   ]
  },
  {
   "cell_type": "code",
   "execution_count": null,
   "id": "45dbcb5c-c78f-445a-88f6-24e3a34b67d1",
   "metadata": {},
   "outputs": [],
   "source": [
    "%matplotlib notebook\n",
    "%matplotlib inline \n",
    "plt.figure(figsize=(12, 8))\n",
    "for n, flow in enumerate(flows):\n",
    "    plt.plot(times[n], flow, label = str(temps[n])+' C')\n",
    "plt.legend()\n",
    "# plt.xlim([0, 10])\n",
    "plt.show()\n",
    "# plt.plot(flows[0,0], flows[0,1])"
   ]
  },
  {
   "cell_type": "code",
   "execution_count": null,
   "id": "e108e650-ae33-4978-93e5-cbef36820581",
   "metadata": {
    "scrolled": true,
    "tags": []
   },
   "outputs": [],
   "source": [
    "prs = rgr.regress_multiresponse_TM(flows = flows, times = times, temps = temps, opts = opts, model = \"Diff_3Z\", step = None, init_guess = None)"
   ]
  },
  {
   "cell_type": "code",
   "execution_count": null,
   "id": "0aec046f-ddaf-4124-88bf-1296ddf1edd3",
   "metadata": {},
   "outputs": [],
   "source": [
    "prs"
   ]
  },
  {
   "cell_type": "code",
   "execution_count": null,
   "id": "7cb8d279-44ad-43cf-a17b-4a6899813e50",
   "metadata": {},
   "outputs": [],
   "source": [
    "flows1 = rgr.simulate_multiresponse_TM(times, prs, temps, opts, model = 'Diff_3Z')"
   ]
  },
  {
   "cell_type": "code",
   "execution_count": null,
   "id": "c8245dbc-2a79-4cc9-91fe-98b37058937f",
   "metadata": {},
   "outputs": [],
   "source": [
    "%matplotlib notebook\n",
    "%matplotlib inline \n",
    "plt.figure(figsize=(12, 8))\n",
    "for n, flow in enumerate(flows1):\n",
    "    plt.plot(times[n], flows1[n]-flows[n], label = str(temps[n])+' C')\n",
    "plt.legend()\n",
    "# plt.xlim([0, 10])\n",
    "plt.show()\n",
    "# plt.plot(flows[0,0], flows[0,1])"
   ]
  },
  {
   "cell_type": "code",
   "execution_count": null,
   "id": "2a21d035-515e-4b0d-a539-f9a1bc2da9b8",
   "metadata": {},
   "outputs": [],
   "source": []
  },
  {
   "cell_type": "code",
   "execution_count": null,
   "id": "85367e7b-2f21-445d-99ab-bc780e6856bc",
   "metadata": {},
   "outputs": [],
   "source": []
  },
  {
   "cell_type": "code",
   "execution_count": null,
   "id": "25304866",
   "metadata": {},
   "outputs": [],
   "source": [
    "datf = pt.pulse(pars=pars, opts=opts, model = 'surf_bar_full', T=5, dt=0.001, Nx=2000)"
   ]
  },
  {
   "cell_type": "code",
   "execution_count": null,
   "id": "4ff6151f",
   "metadata": {},
   "outputs": [],
   "source": [
    "tid = datf['time'].to_numpy()\n",
    "strom = datf['Flow'].to_numpy()\n",
    "print(np.log(pars))"
   ]
  },
  {
   "cell_type": "code",
   "execution_count": null,
   "id": "8cb73ad1",
   "metadata": {},
   "outputs": [],
   "source": [
    "%matplotlib notebook\n",
    "%matplotlib inline \n",
    "plt.plot(datf['time'],datf['Flow']/1e-9, 'r-', markersize=4, label = 'Numerical')\n",
    "plt.title(\"ka = \"+str(round(pars[0],4)) + \", kd = \" + str(round(pars[1],4)))\n",
    "plt.legend()\n",
    "# plt.xlim(0,4)\n",
    "plt.xlabel('time')\n",
    "plt.ylabel('Flow')\n",
    "plt.show()"
   ]
  },
  {
   "cell_type": "code",
   "execution_count": null,
   "id": "b1101bb7",
   "metadata": {},
   "outputs": [],
   "source": [
    "a=[1,2,3,4,5]\n",
    "b=a[:2]\n",
    "b"
   ]
  },
  {
   "cell_type": "code",
   "execution_count": null,
   "id": "6f008bbc",
   "metadata": {
    "tags": []
   },
   "outputs": [],
   "source": [
    "import time\n",
    "t1 = time.time()\n",
    "# step = np.array([0.1, 0.1, 0.1])\n",
    "prs = rgr.regress_num(strom, tid, opts=opts, model = 'surf_bar_part', Nx=1000)\n",
    "t2 = time.time() \n",
    "print(t2-t1)"
   ]
  },
  {
   "cell_type": "code",
   "execution_count": null,
   "id": "afbaa85e",
   "metadata": {},
   "outputs": [],
   "source": [
    "np.exp(prs)"
   ]
  },
  {
   "cell_type": "code",
   "execution_count": null,
   "id": "08873a2c",
   "metadata": {},
   "outputs": [],
   "source": [
    "D1=np.exp(-5)\n",
    "D2=np.exp(-5)\n",
    "ka = 10\n",
    "kd = 100\n",
    "Dp = 3.87e-06\n",
    "k_ent = 10\n",
    "k_ext = 2.5945\n",
    "opts={}\n",
    "# pars=[ka, kd]\n",
    "pars=[ka, kd, Dp, k_ent, k_ext]\n",
    "opts['length'] = np.array([0, 0.0232, 0.0249, 49.2e-3])     # List of zone lengths, m \n",
    "opts['porosity'] = 0.4                       # List of zone porosities\n",
    "opts['Surface per weight'] = 33 * 1000                  # Surface-to-weight ratio for the microporous particles, m2/kg\n",
    "opts['AS concentration'] = 0.29  # Concentration of active cites mol/kg\n",
    "opts['cross_section'] = 1.26e-5\n",
    "opts['T'] = 273+300\n",
    "opts['Tref'] = 298.15\n",
    "opts['Np'] = 1e-9\n",
    "opts['Mref'] = 19.9\n",
    "opts['M'] = 40.9\n",
    "opts['micropore_Rp'] = 1.75e-6 / 2                      # Characteristic length of micropore diffusion, m\n",
    "opts['dr'] = opts['micropore_Rp'] / 100\n",
    "opts['Mircoporous porosity within particle'] = 0.5\n",
    "opts['Sample mass'] = 16.4e-6                            # catalyst weight, kg\n",
    "opts['Dref zones'] = [D1, D2, D1]"
   ]
  },
  {
   "cell_type": "code",
   "execution_count": null,
   "id": "32a096cb",
   "metadata": {},
   "outputs": [],
   "source": [
    "datf = sb.pulse(pars=pars, opts=opts, T=1, dt=0.001, Nx=1000,  save_plot=False, show_plot=False)"
   ]
  },
  {
   "cell_type": "code",
   "execution_count": null,
   "id": "f92776af",
   "metadata": {},
   "outputs": [],
   "source": [
    "%matplotlib notebook\n",
    "%matplotlib inline \n",
    "plt.plot(datf['time'],datf['Flow']/1e-9, 'r-', markersize=4, label = 'Numerical')\n",
    "plt.title(\"ka = \"+str(round(pars[0],4)) + \", kd = \" + str(round(pars[1],4)))\n",
    "plt.legend()\n",
    "# plt.xlim(0,4)\n",
    "plt.xlabel('time')\n",
    "plt.ylabel('Flow')\n",
    "plt.show()"
   ]
  },
  {
   "cell_type": "code",
   "execution_count": null,
   "id": "44b7e826",
   "metadata": {},
   "outputs": [],
   "source": [
    "D1=np.exp(-5)\n",
    "D2=np.exp(-7)\n",
    "ka = 100\n",
    "kd = 1000\n",
    "Dp = 1e-7\n",
    "k_ent = 100\n",
    "k_ext = 1000\n",
    "opts={}\n",
    "# pars=[ka, kd]\n",
    "pars=[ka, kd, Dp, k_ent, k_ext]\n",
    "opts['length'] = np.array([0, 0.0232, 0.0249, 49.2e-3])     # List of zone lengths, m \n",
    "opts['porosity'] = 0.4                       # List of zone porosities\n",
    "opts['Surface per weight'] = 33 * 1000                  # Surface-to-weight ratio for the microporous particles, m2/kg\n",
    "opts['AS concentration'] = 0.29  # Concentration of active cites mol/kg\n",
    "opts['cross_section'] = 1.26e-5\n",
    "opts['T'] = 273+300\n",
    "opts['Tref'] = 298.15\n",
    "opts['Np'] = 1e-9\n",
    "opts['Mref'] = 19.9\n",
    "opts['M'] = 40.9\n",
    "opts['micropore_Rp'] = 1.75e-6 / 2                      # Characteristic length of micropore diffusion, m\n",
    "opts['dr'] = opts['micropore_Rp'] / 100\n",
    "opts['Mircoporous porosity within particle'] = 0.5\n",
    "opts['Sample mass'] = 16.4e-6                            # catalyst weight, kg\n",
    "opts['Dref zones'] = [D1, D2, D1]\n",
    "# opts['Surface adsorption/desorption constants'] = [ka, kd]"
   ]
  },
  {
   "cell_type": "code",
   "execution_count": null,
   "id": "c954b45e",
   "metadata": {},
   "outputs": [],
   "source": [
    "np.log(pars)"
   ]
  },
  {
   "cell_type": "code",
   "execution_count": null,
   "id": "afd8d3aa",
   "metadata": {},
   "outputs": [],
   "source": [
    "datmat = pt.pulse(pars=pars, opts=opts, model = 'surf_bar_full', T=2, dt=0.001, Nx=1000)"
   ]
  },
  {
   "cell_type": "code",
   "execution_count": null,
   "id": "1e32a09c",
   "metadata": {},
   "outputs": [],
   "source": [
    "%matplotlib notebook\n",
    "%matplotlib inline \n",
    "plt.plot(datmat['time'],datmat['Flow'], 'g-', markersize=4, label = 'Tranfer matrix')\n",
    "plt.title(\"ka = \"+str(\"{:.2e}\".format(pars[0])) + \", kd = \" + str(\"{:.2e}\".format(pars[1])) +\n",
    "         \", Dp = \"+str(\"{:.2e}\".format(pars[2])) + \", k_ent = \"+str(\"{:.2e}\".format(pars[3]))\n",
    "          + \", k_ext = \"+str(\"{:.2e}\".format(pars[4])))\n",
    "plt.legend()\n",
    "# plt.xlim(0,4)\n",
    "plt.xlabel('time')\n",
    "plt.ylabel('Flow')\n",
    "plt.show()"
   ]
  },
  {
   "cell_type": "code",
   "execution_count": null,
   "id": "6d2221cd",
   "metadata": {},
   "outputs": [],
   "source": [
    "tid = datmat['time'].to_numpy()\n",
    "strom = datmat['Flow'].to_numpy()\n"
   ]
  },
  {
   "cell_type": "code",
   "execution_count": null,
   "id": "74eabcbd",
   "metadata": {
    "tags": []
   },
   "outputs": [],
   "source": [
    "import time\n",
    "t1 = time.time()\n",
    "# step = np.array([0.1, 0.1, 0.1, 0.1, 0.1])*5\n",
    "guess = [5, 5, -15.08908062,  5,  5 ]\n",
    "prs = rgr.regress_TM(strom, tid, opts=opts, model = 'surf_bar_full', \n",
    "                     Nx=1000, step = None, init_guess = guess)\n",
    "t2 = time.time() \n",
    "print(t2-t1)"
   ]
  },
  {
   "cell_type": "code",
   "execution_count": null,
   "id": "79105790",
   "metadata": {},
   "outputs": [],
   "source": [
    "np.exp(prs)"
   ]
  },
  {
   "cell_type": "code",
   "execution_count": null,
   "id": "c808e1af",
   "metadata": {},
   "outputs": [],
   "source": [
    "D1=np.exp(-5)\n",
    "D2=np.exp(-7)\n",
    "ka = 100\n",
    "kd = 1000\n",
    "Dp = 2.38884708e-08\n",
    "k_ent = 1.00092988e+02\n",
    "k_ext = 4.19001233e+03\n",
    "opts={}\n",
    "# pars=[ka, kd]\n",
    "# pars=[Dp, k_ent, k_ext]\n",
    "pars = np.exp(prs)\n",
    "print(pars)\n",
    "opts['length'] = np.array([0, 0.0232, 0.0249, 49.2e-3])     # List of zone lengths, m \n",
    "opts['porosity'] = 0.4                       # List of zone porosities\n",
    "opts['Surface per weight'] = 33 * 1000                  # Surface-to-weight ratio for the microporous particles, m2/kg\n",
    "opts['AS concentration'] = 0.29  # Concentration of active cites mol/kg\n",
    "opts['cross_section'] = 1.26e-5\n",
    "opts['T'] = 273+300\n",
    "opts['Tref'] = 298.15\n",
    "opts['Np'] = 1e-9\n",
    "opts['Mref'] = 19.9\n",
    "opts['M'] = 40.9\n",
    "opts['micropore_Rp'] = 1.75e-6 / 2                      # Characteristic length of micropore diffusion, m\n",
    "opts['dr'] = opts['micropore_Rp'] / 100\n",
    "opts['Mircoporous porosity within particle'] = 0.5\n",
    "opts['Sample mass'] = 16.4e-6                            # catalyst weight, kg\n",
    "opts['Dref zones'] = [D1, D2, D1]\n",
    "opts['Surface adsorption/desorption constants'] = [ka, kd]"
   ]
  },
  {
   "cell_type": "code",
   "execution_count": null,
   "id": "a2aee962",
   "metadata": {},
   "outputs": [],
   "source": [
    "datmat = pt.pulse(pars=pars, opts=opts, model = 'surf_bar_full', T=2, dt=0.001, Nx=1000)"
   ]
  },
  {
   "cell_type": "code",
   "execution_count": null,
   "id": "87fdf55f",
   "metadata": {},
   "outputs": [],
   "source": [
    "%matplotlib notebook\n",
    "%matplotlib inline \n",
    "plt.plot(datmat['time'],datmat['Flow'], 'g-', markersize=4, label = 'Transfer Matrix')\n",
    "plt.title(\"ka = \"+str(\"{:.2e}\".format(pars[0])) + \", kd = \" + str(\"{:.2e}\".format(pars[1])) +\n",
    "         \", Dp = \"+str(\"{:.2e}\".format(pars[2])) + \", k_ent = \"+str(\"{:.2e}\".format(pars[3]))\n",
    "          + \", k_ext = \"+str(\"{:.2e}\".format(pars[4])))\n",
    "plt.legend()\n",
    "# plt.xlim(0,4)\n",
    "plt.xlabel('time')\n",
    "plt.ylabel('Flow')\n",
    "plt.show()"
   ]
  }
 ],
 "metadata": {
  "kernelspec": {
   "display_name": "Python 3 (ipykernel)",
   "language": "python",
   "name": "python3"
  },
  "language_info": {
   "codemirror_mode": {
    "name": "ipython",
    "version": 3
   },
   "file_extension": ".py",
   "mimetype": "text/x-python",
   "name": "python",
   "nbconvert_exporter": "python",
   "pygments_lexer": "ipython3",
   "version": "3.9.12"
  }
 },
 "nbformat": 4,
 "nbformat_minor": 5
}
