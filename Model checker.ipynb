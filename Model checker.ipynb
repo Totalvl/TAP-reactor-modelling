{
 "cells": [
  {
   "cell_type": "code",
   "execution_count": 23,
   "metadata": {},
   "outputs": [
    {
     "name": "stdout",
     "output_type": "stream",
     "text": [
      "The autoreload extension is already loaded. To reload it, use:\n",
      "  %reload_ext autoreload\n"
     ]
    }
   ],
   "source": [
    "%load_ext autoreload\n",
    "%matplotlib notebook\n",
    "%matplotlib inline "
   ]
  },
  {
   "cell_type": "code",
   "execution_count": 24,
   "metadata": {},
   "outputs": [],
   "source": [
    "import warnings\n",
    "warnings.filterwarnings('ignore')"
   ]
  },
  {
   "cell_type": "code",
   "execution_count": 25,
   "metadata": {},
   "outputs": [],
   "source": [
    "%autoreload 2\n",
    "import numpy as np\n",
    "import matplotlib.pyplot as plt\n",
    "import models.equilibr as eq\n",
    "# import models.microAD as mad\n",
    "import models.adsdesNonLin as ad\n",
    "import models.adsdesLin as adl\n",
    "import models.equilibrCopy1 as eq1\n",
    "import models.equilibrCopy2 as eq2\n",
    "import models.equilibrCopy3 as eq3\n",
    "# import models.equilibrCopy3CuPy as eq3cupy\n",
    "import models.prototypes as pt\n",
    "import models.Ansol as an\n",
    "import models.SurfBar as sb\n",
    "import models.SurfBarKnudHop as skn\n",
    "import models.SurfBarKnudHopMultiP as sknp\n",
    "import models.SurfBarKnudHopJobLib as sknjl\n",
    "import models.SurfBarMultiP as sbp\n",
    "# from models.prototypes import universal_3Z\n",
    "import models.SurfBarNumba as sbnu"
   ]
  },
  {
   "cell_type": "code",
   "execution_count": 26,
   "metadata": {},
   "outputs": [],
   "source": [
    "opts={}\n",
    "D1 = 1\n",
    "D2 = 1 \n",
    "pars=[1, 1]\n",
    "opts['length'] = np.array([0, 0.001, 0.999, 1])     # List of zone lengths, m \n",
    "opts['porosity'] = 0.4                       # List of zone porosities\n",
    "opts['Surface per weight'] = 1                   # Surface-to-weight ratio for the microporous particles, m2/kg\n",
    "opts['AS concentration'] = 1\n",
    "opts['cross_section'] = 1\n",
    "opts['T'] = 298.15\n",
    "opts['Tref'] = 298.15\n",
    "opts['Np'] = 1\n",
    "opts['Mref'] = 36\n",
    "opts['M'] = 36\n",
    "opts['micropore_Rp'] = 10                      # Characteristic length of micropore diffusion, m\n",
    "opts['dr'] = 0.1\n",
    "opts['Mircoporous porosity within particle'] = 0.5\n",
    "opts['Sample mass'] = 1\n",
    "opts['Dref zones'] = [D1, D2, D1]\n",
    "\n"
   ]
  },
  {
   "cell_type": "code",
   "execution_count": 27,
   "metadata": {},
   "outputs": [],
   "source": [
    "D1=np.exp(-5)\n",
    "D2=np.exp(-8)\n",
    "ka = 100\n",
    "kd = 1000\n",
    "Dp = 1e-10\n",
    "k_ent = 10\n",
    "k_ext = 1000\n",
    "ka_int = 100\n",
    "kd_int = 1000\n",
    "opts={}\n",
    "# pars=[ka, kd]\n",
    "pars=[ka, kd, k_ent, k_ext, ka_int, kd_int, Dp]\n",
    "opts['length'] = np.array([0.0232, 0.002, 0.0232])     # List of zone lengths, m \n",
    "opts['porosity'] = 0.4                       # List of zone porosities\n",
    "opts['microporosity'] = 0.4\n",
    "opts['Surface per weight'] = 33 * 1000                  # Surface-to-weight ratio for the microporous particles, m2/kg\n",
    "opts['AS concentration'] = 0.29  # Concentration of active cites mol/kg\n",
    "opts['AS concentration within particle'] = 0.1\n",
    "opts['cross_section'] = 1.26e-5\n",
    "opts['T'] = 273+300\n",
    "opts['Tref'] = 298.15\n",
    "opts['Np'] = 1e-9\n",
    "opts['Mref'] = 19.9\n",
    "opts['M'] = 40.9\n",
    "opts['micropore_Rp'] = 1.75e-6 / 2                      # Characteristic length of micropore diffusion, m\n",
    "opts['dr'] = opts['micropore_Rp'] / 100\n",
    "opts['Unit-layer thickness'] = 1e-9\n",
    "\n",
    "opts['Sample mass'] = 16.4e-6                            # catalyst weight, kg\n",
    "opts['Dref zones'] = [D1, D2, D1]\n",
    "opts['Surface adsorption/desorption constants'] = [ka, kd]"
   ]
  },
  {
   "cell_type": "code",
   "execution_count": 48,
   "metadata": {
    "scrolled": true
   },
   "outputs": [
    {
     "name": "stdout",
     "output_type": "stream",
     "text": [
      "[0.     0.0232 0.0252 0.0484]\n",
      "35793650.79365077\n"
     ]
    },
    {
     "ename": "KeyboardInterrupt",
     "evalue": "",
     "output_type": "error",
     "traceback": [
      "\u001b[1;31m---------------------------------------------------------------------------\u001b[0m",
      "\u001b[1;31mKeyboardInterrupt\u001b[0m                         Traceback (most recent call last)",
      "\u001b[1;32m<ipython-input-48-2f4e9be73959>\u001b[0m in \u001b[0;36m<module>\u001b[1;34m\u001b[0m\n\u001b[0;32m      1\u001b[0m \u001b[0mget_ipython\u001b[0m\u001b[1;33m(\u001b[0m\u001b[1;33m)\u001b[0m\u001b[1;33m.\u001b[0m\u001b[0mrun_line_magic\u001b[0m\u001b[1;33m(\u001b[0m\u001b[1;34m'matplotlib'\u001b[0m\u001b[1;33m,\u001b[0m \u001b[1;34m'notebook'\u001b[0m\u001b[1;33m)\u001b[0m\u001b[1;33m\u001b[0m\u001b[1;33m\u001b[0m\u001b[0m\n\u001b[0;32m      2\u001b[0m \u001b[0mget_ipython\u001b[0m\u001b[1;33m(\u001b[0m\u001b[1;33m)\u001b[0m\u001b[1;33m.\u001b[0m\u001b[0mrun_line_magic\u001b[0m\u001b[1;33m(\u001b[0m\u001b[1;34m'matplotlib'\u001b[0m\u001b[1;33m,\u001b[0m \u001b[1;34m'inline'\u001b[0m\u001b[1;33m)\u001b[0m\u001b[1;33m\u001b[0m\u001b[1;33m\u001b[0m\u001b[0m\n\u001b[1;32m----> 3\u001b[1;33m sim_data_num = sb.pulse(pars=pars, opts=opts, T=1, dt=0.001, Nx=2000,  save_plot=False, \n\u001b[0m\u001b[0;32m      4\u001b[0m                 show_plot=False, pore_plot=False, surface_plot=False, plot_update = False)\n",
      "\u001b[1;32mM:\\repositories\\UiO Study\\Testing-grounds\\models\\SurfBar.py\u001b[0m in \u001b[0;36mpulse\u001b[1;34m(opts, pars, T, dt, Nx, save_plot, show_plot, **kwargs)\u001b[0m\n\u001b[0;32m    580\u001b[0m \u001b[1;31m#         (I, a, f, L, Nx, D, T, theta=0.5, u_R=0, user_action=plot_u)\u001b[0m\u001b[1;33m\u001b[0m\u001b[1;33m\u001b[0m\u001b[1;33m\u001b[0m\u001b[0m\n\u001b[0;32m    581\u001b[0m     \u001b[1;32melse\u001b[0m\u001b[1;33m:\u001b[0m\u001b[1;33m\u001b[0m\u001b[1;33m\u001b[0m\u001b[0m\n\u001b[1;32m--> 582\u001b[1;33m         \u001b[0mt\u001b[0m\u001b[1;33m,\u001b[0m \u001b[0marray\u001b[0m \u001b[1;33m=\u001b[0m \u001b[0msolver\u001b[0m\u001b[1;33m(\u001b[0m\u001b[0mCI\u001b[0m\u001b[1;33m,\u001b[0m \u001b[0mdt\u001b[0m\u001b[1;33m,\u001b[0m \u001b[0mf\u001b[0m\u001b[1;33m,\u001b[0m \u001b[0mT\u001b[0m\u001b[1;33m,\u001b[0m \u001b[0mthetaI\u001b[0m\u001b[1;33m,\u001b[0m \u001b[0mCpI\u001b[0m\u001b[1;33m,\u001b[0m \u001b[0mopts\u001b[0m\u001b[1;33m=\u001b[0m\u001b[0mopts\u001b[0m\u001b[1;33m,\u001b[0m \u001b[0mpars\u001b[0m\u001b[1;33m=\u001b[0m\u001b[0mpars\u001b[0m\u001b[1;33m,\u001b[0m \u001b[0muser_action\u001b[0m\u001b[1;33m=\u001b[0m\u001b[1;32mNone\u001b[0m\u001b[1;33m,\u001b[0m \u001b[1;33m**\u001b[0m\u001b[0mkwargs\u001b[0m\u001b[1;33m)\u001b[0m\u001b[1;33m\u001b[0m\u001b[1;33m\u001b[0m\u001b[0m\n\u001b[0m\u001b[0;32m    583\u001b[0m \u001b[1;33m\u001b[0m\u001b[0m\n\u001b[0;32m    584\u001b[0m     \u001b[1;32mif\u001b[0m \u001b[0msave_plot\u001b[0m\u001b[1;33m:\u001b[0m\u001b[1;33m\u001b[0m\u001b[1;33m\u001b[0m\u001b[0m\n",
      "\u001b[1;32mM:\\repositories\\UiO Study\\Testing-grounds\\models\\SurfBar.py\u001b[0m in \u001b[0;36msolver\u001b[1;34m(CI, dt, f, T, thetaI, CpI, opts, pars, er, user_action, pore_plot, surface_plot, plot_update)\u001b[0m\n\u001b[0;32m    417\u001b[0m                     \u001b[0mvp1\u001b[0m\u001b[1;33m[\u001b[0m\u001b[0mNx\u001b[0m\u001b[1;33m[\u001b[0m\u001b[1;36m1\u001b[0m\u001b[1;33m]\u001b[0m\u001b[1;33m:\u001b[0m\u001b[0mNx\u001b[0m\u001b[1;33m[\u001b[0m\u001b[1;36m2\u001b[0m\u001b[1;33m]\u001b[0m\u001b[1;33m]\u001b[0m \u001b[1;33m=\u001b[0m \u001b[1;33m(\u001b[0m\u001b[0mv_n\u001b[0m\u001b[1;33m[\u001b[0m\u001b[0mNx\u001b[0m\u001b[1;33m[\u001b[0m\u001b[1;36m1\u001b[0m\u001b[1;33m]\u001b[0m\u001b[1;33m:\u001b[0m\u001b[0mNx\u001b[0m\u001b[1;33m[\u001b[0m\u001b[1;36m2\u001b[0m\u001b[1;33m]\u001b[0m\u001b[1;33m]\u001b[0m \u001b[1;33m+\u001b[0m \u001b[0mb21\u001b[0m \u001b[1;33m*\u001b[0m \u001b[0mu0\u001b[0m\u001b[1;33m[\u001b[0m\u001b[0mNx\u001b[0m\u001b[1;33m[\u001b[0m\u001b[1;36m1\u001b[0m\u001b[1;33m]\u001b[0m\u001b[1;33m:\u001b[0m\u001b[0mNx\u001b[0m\u001b[1;33m[\u001b[0m\u001b[1;36m2\u001b[0m\u001b[1;33m]\u001b[0m\u001b[1;33m]\u001b[0m \u001b[1;33m+\u001b[0m \u001b[0mdt\u001b[0m \u001b[1;33m*\u001b[0m \u001b[0mk_ext\u001b[0m \u001b[1;33m*\u001b[0m \u001b[0marrCp0\u001b[0m\u001b[1;33m[\u001b[0m\u001b[1;33m:\u001b[0m\u001b[1;33m,\u001b[0m\u001b[1;33m-\u001b[0m\u001b[1;36m1\u001b[0m\u001b[1;33m]\u001b[0m \u001b[1;33m*\u001b[0m\u001b[0meps_p\u001b[0m \u001b[1;33m/\u001b[0m \u001b[0mSv\u001b[0m \u001b[1;33m/\u001b[0m \u001b[0mAc\u001b[0m\u001b[1;33m)\u001b[0m \u001b[1;33m/\u001b[0m\u001b[0;31m\\\u001b[0m\u001b[1;33m\u001b[0m\u001b[1;33m\u001b[0m\u001b[0m\n\u001b[0;32m    418\u001b[0m                             \u001b[1;33m(\u001b[0m\u001b[1;36m1\u001b[0m \u001b[1;33m+\u001b[0m \u001b[0mb22\u001b[0m \u001b[1;33m+\u001b[0m \u001b[0mb21\u001b[0m \u001b[1;33m*\u001b[0m \u001b[0mu0\u001b[0m\u001b[1;33m[\u001b[0m\u001b[0mNx\u001b[0m\u001b[1;33m[\u001b[0m\u001b[1;36m1\u001b[0m\u001b[1;33m]\u001b[0m\u001b[1;33m:\u001b[0m\u001b[0mNx\u001b[0m\u001b[1;33m[\u001b[0m\u001b[1;36m2\u001b[0m\u001b[1;33m]\u001b[0m\u001b[1;33m]\u001b[0m \u001b[1;33m+\u001b[0m \u001b[0mdt\u001b[0m \u001b[1;33m*\u001b[0m \u001b[0mk_ent\u001b[0m\u001b[1;33m)\u001b[0m\u001b[1;33m\u001b[0m\u001b[1;33m\u001b[0m\u001b[0m\n\u001b[1;32m--> 419\u001b[1;33m                     arrCp1[:] = MicroPDiff_linalg(Cs = vp1[Nx[1]:Nx[2]], CpIn = arrCpn, Dp = Dp, dt = dt,\n\u001b[0m\u001b[0;32m    420\u001b[0m                                                        dr=dr, k_ent = k_ent, k_ext = k_ext, opts = opts)    \n\u001b[0;32m    421\u001b[0m \u001b[1;33m\u001b[0m\u001b[0m\n",
      "\u001b[1;32m~\\Anaconda3\\envs\\models\\lib\\site-packages\\numba\\misc\\special.py\u001b[0m in \u001b[0;36m__new__\u001b[1;34m(cls, *args)\u001b[0m\n\u001b[0;32m     15\u001b[0m     \u001b[0mIn\u001b[0m \u001b[0mnon\u001b[0m\u001b[1;33m-\u001b[0m\u001b[0mparallel\u001b[0m \u001b[0mcontexts\u001b[0m\u001b[1;33m,\u001b[0m \u001b[0mprange\u001b[0m \u001b[1;32mis\u001b[0m \u001b[0midentical\u001b[0m \u001b[0mto\u001b[0m \u001b[0mrange\u001b[0m\u001b[1;33m.\u001b[0m\u001b[1;33m\u001b[0m\u001b[1;33m\u001b[0m\u001b[0m\n\u001b[0;32m     16\u001b[0m     \"\"\"\n\u001b[1;32m---> 17\u001b[1;33m     \u001b[1;32mdef\u001b[0m \u001b[0m__new__\u001b[0m\u001b[1;33m(\u001b[0m\u001b[0mcls\u001b[0m\u001b[1;33m,\u001b[0m \u001b[1;33m*\u001b[0m\u001b[0margs\u001b[0m\u001b[1;33m)\u001b[0m\u001b[1;33m:\u001b[0m\u001b[1;33m\u001b[0m\u001b[1;33m\u001b[0m\u001b[0m\n\u001b[0m\u001b[0;32m     18\u001b[0m         \u001b[1;32mreturn\u001b[0m \u001b[0mrange\u001b[0m\u001b[1;33m(\u001b[0m\u001b[1;33m*\u001b[0m\u001b[0margs\u001b[0m\u001b[1;33m)\u001b[0m\u001b[1;33m\u001b[0m\u001b[1;33m\u001b[0m\u001b[0m\n\u001b[0;32m     19\u001b[0m \u001b[1;33m\u001b[0m\u001b[0m\n",
      "\u001b[1;31mKeyboardInterrupt\u001b[0m: "
     ]
    }
   ],
   "source": [
    "\n",
    "sim_data_num = sb.pulse(pars=pars, opts=opts, T=1, dt=0.001, Nx=2000,  save_plot=False, \n",
    "                show_plot=False, pore_plot=False, surface_plot=False, plot_update = False)\n"
   ]
  },
  {
   "cell_type": "code",
   "execution_count": 34,
   "metadata": {},
   "outputs": [
    {
     "data": {
      "text/plain": [
       "array([ 0,  1,  4,  9, 16, 25, 36, 49, 64])"
      ]
     },
     "execution_count": 34,
     "metadata": {},
     "output_type": "execute_result"
    }
   ],
   "source": [
    "np.arange(9)*np.arange(9)"
   ]
  },
  {
   "cell_type": "code",
   "execution_count": 32,
   "metadata": {},
   "outputs": [
    {
     "name": "stdout",
     "output_type": "stream",
     "text": [
      "0.00019675314912314916 0.0023969440509421544\n",
      "100 1000\n",
      "222.03548085901022\n"
     ]
    }
   ],
   "source": [
    "datf = adl.pulse(pars=pars, opts=opts, T=4, dt=0.001, Nx=1000,  save_plot=False, show_plot=False)"
   ]
  },
  {
   "cell_type": "code",
   "execution_count": 37,
   "metadata": {},
   "outputs": [
    {
     "name": "stdout",
     "output_type": "stream",
     "text": [
      "0.0023969440509421544\n",
      "100 1000\n",
      "Sv*As*(1-eps) =  7.671957671957671\n"
     ]
    }
   ],
   "source": [
    "dfex = an.pulse(pars=pars, opts=opts, model='rev_ads', T=4, dt=0.001, Nx=1000)"
   ]
  },
  {
   "cell_type": "code",
   "execution_count": 32,
   "metadata": {
    "scrolled": true,
    "tags": []
   },
   "outputs": [
    {
     "ename": "AssertionError",
     "evalue": "",
     "output_type": "error",
     "traceback": [
      "\u001b[1;31m---------------------------------------------------------------------------\u001b[0m",
      "\u001b[1;31mAssertionError\u001b[0m                            Traceback (most recent call last)",
      "\u001b[1;32m<ipython-input-32-2b29d7dd5129>\u001b[0m in \u001b[0;36m<module>\u001b[1;34m\u001b[0m\n\u001b[0;32m      1\u001b[0m \u001b[0mget_ipython\u001b[0m\u001b[1;33m(\u001b[0m\u001b[1;33m)\u001b[0m\u001b[1;33m.\u001b[0m\u001b[0mrun_line_magic\u001b[0m\u001b[1;33m(\u001b[0m\u001b[1;34m'matplotlib'\u001b[0m\u001b[1;33m,\u001b[0m \u001b[1;34m'notebook'\u001b[0m\u001b[1;33m)\u001b[0m\u001b[1;33m\u001b[0m\u001b[1;33m\u001b[0m\u001b[0m\n\u001b[0;32m      2\u001b[0m \u001b[0mget_ipython\u001b[0m\u001b[1;33m(\u001b[0m\u001b[1;33m)\u001b[0m\u001b[1;33m.\u001b[0m\u001b[0mrun_line_magic\u001b[0m\u001b[1;33m(\u001b[0m\u001b[1;34m'matplotlib'\u001b[0m\u001b[1;33m,\u001b[0m \u001b[1;34m'inline'\u001b[0m\u001b[1;33m)\u001b[0m\u001b[1;33m\u001b[0m\u001b[1;33m\u001b[0m\u001b[0m\n\u001b[1;32m----> 3\u001b[1;33m \u001b[0mdatf\u001b[0m \u001b[1;33m=\u001b[0m \u001b[0meq3\u001b[0m\u001b[1;33m.\u001b[0m\u001b[0mpulse\u001b[0m\u001b[1;33m(\u001b[0m\u001b[0mpars\u001b[0m\u001b[1;33m=\u001b[0m\u001b[0mpars\u001b[0m\u001b[1;33m,\u001b[0m \u001b[0mopts\u001b[0m\u001b[1;33m=\u001b[0m\u001b[0mopts\u001b[0m\u001b[1;33m,\u001b[0m \u001b[0mT\u001b[0m\u001b[1;33m=\u001b[0m\u001b[1;36m1\u001b[0m\u001b[1;33m,\u001b[0m \u001b[0mdt\u001b[0m\u001b[1;33m=\u001b[0m\u001b[1;36m0.001\u001b[0m\u001b[1;33m,\u001b[0m \u001b[0mNx\u001b[0m\u001b[1;33m=\u001b[0m\u001b[1;36m1000\u001b[0m\u001b[1;33m,\u001b[0m  \u001b[0msave_plot\u001b[0m\u001b[1;33m=\u001b[0m\u001b[1;32mFalse\u001b[0m\u001b[1;33m,\u001b[0m \u001b[0mshow_plot\u001b[0m\u001b[1;33m=\u001b[0m\u001b[1;32mTrue\u001b[0m\u001b[1;33m,\u001b[0m \u001b[0mpore_plot\u001b[0m\u001b[1;33m=\u001b[0m\u001b[1;32mTrue\u001b[0m\u001b[1;33m)\u001b[0m\u001b[1;33m\u001b[0m\u001b[1;33m\u001b[0m\u001b[0m\n\u001b[0m",
      "\u001b[1;32mM:\\repositories\\UiO Study\\Testing-grounds\\models\\equilibrCopy3.py\u001b[0m in \u001b[0;36mpulse\u001b[1;34m(opts, pars, T, dt, Nx, save_plot, show_plot, **kwargs)\u001b[0m\n\u001b[0;32m    623\u001b[0m \u001b[1;33m\u001b[0m\u001b[0m\n\u001b[0;32m    624\u001b[0m \u001b[1;33m\u001b[0m\u001b[0m\n\u001b[1;32m--> 625\u001b[1;33m     \u001b[0mD\u001b[0m\u001b[1;33m=\u001b[0m\u001b[0mfill_a\u001b[0m\u001b[1;33m(\u001b[0m\u001b[0mopts\u001b[0m\u001b[1;33m[\u001b[0m\u001b[1;34m'Dref zones'\u001b[0m\u001b[1;33m]\u001b[0m\u001b[1;33m,\u001b[0m\u001b[0mL\u001b[0m\u001b[1;33m,\u001b[0m\u001b[0mdx\u001b[0m\u001b[1;33m)\u001b[0m\u001b[1;33m\u001b[0m\u001b[1;33m\u001b[0m\u001b[0m\n\u001b[0m\u001b[0;32m    626\u001b[0m     \u001b[0mopts\u001b[0m\u001b[1;33m[\u001b[0m\u001b[1;34m'D_ref'\u001b[0m\u001b[1;33m]\u001b[0m \u001b[1;33m=\u001b[0m \u001b[0mD\u001b[0m\u001b[1;33m\u001b[0m\u001b[1;33m\u001b[0m\u001b[0m\n\u001b[0;32m    627\u001b[0m     \u001b[1;32mif\u001b[0m \u001b[0mshow_plot\u001b[0m\u001b[1;33m:\u001b[0m\u001b[1;33m\u001b[0m\u001b[1;33m\u001b[0m\u001b[0m\n",
      "\u001b[1;32mM:\\repositories\\UiO Study\\Testing-grounds\\models\\equilibrCopy3.py\u001b[0m in \u001b[0;36mfill_a\u001b[1;34m(Dref, L, dx)\u001b[0m\n\u001b[0;32m    614\u001b[0m     \u001b[1;32mdef\u001b[0m \u001b[0mfill_a\u001b[0m\u001b[1;33m(\u001b[0m\u001b[0mDref\u001b[0m\u001b[1;33m,\u001b[0m \u001b[0mL\u001b[0m\u001b[1;33m,\u001b[0m \u001b[0mdx\u001b[0m\u001b[1;33m)\u001b[0m\u001b[1;33m:\u001b[0m\u001b[1;33m\u001b[0m\u001b[1;33m\u001b[0m\u001b[0m\n\u001b[0;32m    615\u001b[0m         \u001b[0mNzone\u001b[0m \u001b[1;33m=\u001b[0m \u001b[0mlen\u001b[0m\u001b[1;33m(\u001b[0m\u001b[0mDref\u001b[0m\u001b[1;33m)\u001b[0m\u001b[1;33m\u001b[0m\u001b[1;33m\u001b[0m\u001b[0m\n\u001b[1;32m--> 616\u001b[1;33m         \u001b[1;32massert\u001b[0m \u001b[0mlen\u001b[0m\u001b[1;33m(\u001b[0m\u001b[0mDref\u001b[0m\u001b[1;33m)\u001b[0m \u001b[1;33m==\u001b[0m \u001b[0mlen\u001b[0m\u001b[1;33m(\u001b[0m\u001b[0mL\u001b[0m\u001b[1;33m)\u001b[0m\u001b[1;33m-\u001b[0m\u001b[1;36m1\u001b[0m\u001b[1;33m\u001b[0m\u001b[1;33m\u001b[0m\u001b[0m\n\u001b[0m\u001b[0;32m    617\u001b[0m         \u001b[0ma\u001b[0m \u001b[1;33m=\u001b[0m \u001b[0mnp\u001b[0m\u001b[1;33m.\u001b[0m\u001b[0mzeros\u001b[0m\u001b[1;33m(\u001b[0m\u001b[0mint\u001b[0m\u001b[1;33m(\u001b[0m\u001b[0mround\u001b[0m\u001b[1;33m(\u001b[0m\u001b[0mL\u001b[0m\u001b[1;33m[\u001b[0m\u001b[1;33m-\u001b[0m\u001b[1;36m1\u001b[0m\u001b[1;33m]\u001b[0m\u001b[1;33m/\u001b[0m\u001b[0mfloat\u001b[0m\u001b[1;33m(\u001b[0m\u001b[0mdx\u001b[0m\u001b[1;33m)\u001b[0m\u001b[1;33m)\u001b[0m\u001b[1;33m)\u001b[0m\u001b[1;33m+\u001b[0m\u001b[1;36m1\u001b[0m\u001b[1;33m)\u001b[0m\u001b[1;33m\u001b[0m\u001b[1;33m\u001b[0m\u001b[0m\n\u001b[0;32m    618\u001b[0m         \u001b[0mNx\u001b[0m\u001b[1;33m=\u001b[0m\u001b[0mnp\u001b[0m\u001b[1;33m.\u001b[0m\u001b[0maround\u001b[0m\u001b[1;33m(\u001b[0m\u001b[0mL\u001b[0m\u001b[1;33m/\u001b[0m\u001b[0mdx\u001b[0m\u001b[1;33m)\u001b[0m\u001b[1;33m.\u001b[0m\u001b[0mastype\u001b[0m\u001b[1;33m(\u001b[0m\u001b[0mint\u001b[0m\u001b[1;33m)\u001b[0m\u001b[1;33m\u001b[0m\u001b[1;33m\u001b[0m\u001b[0m\n",
      "\u001b[1;31mAssertionError\u001b[0m: "
     ]
    }
   ],
   "source": [
    "%matplotlib notebook\n",
    "%matplotlib inline \n",
    "datf = eq3.pulse(pars=pars, opts=opts, T=1, dt=0.001, Nx=1000,  save_plot=False, show_plot=True, pore_plot=True)"
   ]
  },
  {
   "cell_type": "code",
   "execution_count": 32,
   "metadata": {},
   "outputs": [],
   "source": [
    "sim_data_TM = pt.pulse(pars=pars, opts=opts, model = 'surf_bar_full', T=5, dt=0.001)"
   ]
  },
  {
   "cell_type": "code",
   "execution_count": 33,
   "metadata": {},
   "outputs": [
    {
     "data": {
      "image/png": "[encoded data removed]",
      "text/plain": [
       "<Figure size 432x288 with 1 Axes>"
      ]
     },
     "metadata": {
      "needs_background": "light"
     },
     "output_type": "display_data"
    }
   ],
   "source": [
    "%matplotlib notebook\n",
    "%matplotlib inline \n",
    "plt.plot(sim_data_TM[0], sim_data_TM[1], 'b-', label = 'TM sim pulse')\n",
    "# plt.plot(sim_data_num['time'], sim_data_num['Flow']/1e-9, 'r-', label = 'Numerical sim pulse')\n",
    "plt.legend()\n",
    "plt.show()"
   ]
  },
  {
   "cell_type": "code",
   "execution_count": 23,
   "metadata": {},
   "outputs": [
    {
     "name": "stdout",
     "output_type": "stream",
     "text": [
      "3996\n"
     ]
    },
    {
     "data": {
      "text/html": [
       "<div>\n",
       "<style scoped>\n",
       "    .dataframe tbody tr th:only-of-type {\n",
       "        vertical-align: middle;\n",
       "    }\n",
       "\n",
       "    .dataframe tbody tr th {\n",
       "        vertical-align: top;\n",
       "    }\n",
       "\n",
       "    .dataframe thead th {\n",
       "        text-align: right;\n",
       "    }\n",
       "</style>\n",
       "<table border=\"1\" class=\"dataframe\">\n",
       "  <thead>\n",
       "    <tr style=\"text-align: right;\">\n",
       "      <th></th>\n",
       "      <th>time</th>\n",
       "      <th>Flow</th>\n",
       "      <th>iterations per step</th>\n",
       "    </tr>\n",
       "  </thead>\n",
       "  <tbody>\n",
       "    <tr>\n",
       "      <th>0</th>\n",
       "      <td>0.000</td>\n",
       "      <td>0.000000e+00</td>\n",
       "      <td>0</td>\n",
       "    </tr>\n",
       "    <tr>\n",
       "      <th>1</th>\n",
       "      <td>0.001</td>\n",
       "      <td>5.610405e-12</td>\n",
       "      <td>5</td>\n",
       "    </tr>\n",
       "    <tr>\n",
       "      <th>2</th>\n",
       "      <td>0.002</td>\n",
       "      <td>3.237408e-11</td>\n",
       "      <td>5</td>\n",
       "    </tr>\n",
       "    <tr>\n",
       "      <th>3</th>\n",
       "      <td>0.003</td>\n",
       "      <td>1.012112e-10</td>\n",
       "      <td>5</td>\n",
       "    </tr>\n",
       "    <tr>\n",
       "      <th>4</th>\n",
       "      <td>0.004</td>\n",
       "      <td>2.285812e-10</td>\n",
       "      <td>5</td>\n",
       "    </tr>\n",
       "    <tr>\n",
       "      <th>...</th>\n",
       "      <td>...</td>\n",
       "      <td>...</td>\n",
       "      <td>...</td>\n",
       "    </tr>\n",
       "    <tr>\n",
       "      <th>996</th>\n",
       "      <td>0.996</td>\n",
       "      <td>4.870693e-11</td>\n",
       "      <td>4</td>\n",
       "    </tr>\n",
       "    <tr>\n",
       "      <th>997</th>\n",
       "      <td>0.997</td>\n",
       "      <td>4.848976e-11</td>\n",
       "      <td>4</td>\n",
       "    </tr>\n",
       "    <tr>\n",
       "      <th>998</th>\n",
       "      <td>0.998</td>\n",
       "      <td>4.827355e-11</td>\n",
       "      <td>4</td>\n",
       "    </tr>\n",
       "    <tr>\n",
       "      <th>999</th>\n",
       "      <td>0.999</td>\n",
       "      <td>4.805830e-11</td>\n",
       "      <td>4</td>\n",
       "    </tr>\n",
       "    <tr>\n",
       "      <th>1000</th>\n",
       "      <td>1.000</td>\n",
       "      <td>4.784402e-11</td>\n",
       "      <td>4</td>\n",
       "    </tr>\n",
       "  </tbody>\n",
       "</table>\n",
       "<p>1001 rows × 3 columns</p>\n",
       "</div>"
      ],
      "text/plain": [
       "       time          Flow  iterations per step\n",
       "0     0.000  0.000000e+00                    0\n",
       "1     0.001  5.610405e-12                    5\n",
       "2     0.002  3.237408e-11                    5\n",
       "3     0.003  1.012112e-10                    5\n",
       "4     0.004  2.285812e-10                    5\n",
       "...     ...           ...                  ...\n",
       "996   0.996  4.870693e-11                    4\n",
       "997   0.997  4.848976e-11                    4\n",
       "998   0.998  4.827355e-11                    4\n",
       "999   0.999  4.805830e-11                    4\n",
       "1000  1.000  4.784402e-11                    4\n",
       "\n",
       "[1001 rows x 3 columns]"
      ]
     },
     "metadata": {},
     "output_type": "display_data"
    },
    {
     "data": {
      "image/png": "[encoded data removed]",
      "text/plain": [
       "<Figure size 432x288 with 1 Axes>"
      ]
     },
     "metadata": {
      "needs_background": "light"
     },
     "output_type": "display_data"
    }
   ],
   "source": [
    "%matplotlib notebook\n",
    "%matplotlib inline \n",
    "print(datf['iterations per step'].sum())\n",
    "display(datf)\n",
    "plt.plot(datf['time'],datf['Flow'], 'r-', markersize=4, label = 'Numerical')\n",
    "# plt.plot(dfex['time'],dfex['Flow']/1e-9, 'b-', markersize=4, label = 'Analytical')\n",
    "# plt.plot(datmat['time'],datmat['Flow'], 'g-', markersize=4, label = 'Transfer Matrix')\n",
    "plt.title(\"ka = \"+str(round(pars[0],4)) + \", kd = \" + str(round(pars[1],4)) +\n",
    "         \", Dp = \"+str(round(pars[2],4)) + \", k_ent = \"+str(round(pars[3],4))\n",
    "          + \", k_ext = \"+str(round(pars[4],4)))\n",
    "plt.legend()\n",
    "# plt.xlim(0,4)\n",
    "plt.xlabel('time')\n",
    "plt.ylabel('Flow')\n",
    "plt.show()"
   ]
  },
  {
   "cell_type": "code",
   "execution_count": null,
   "metadata": {},
   "outputs": [],
   "source": [
    "%mprun -f eq.solver eq.solver(CI, a, f, T, CpI, opts=opts, pars=pars, user_action=None)"
   ]
  },
  {
   "cell_type": "code",
   "execution_count": null,
   "metadata": {
    "scrolled": true
   },
   "outputs": [],
   "source": []
  },
  {
   "cell_type": "code",
   "execution_count": null,
   "metadata": {},
   "outputs": [],
   "source": [
    "datf = eq.pulse(Diffs, pars=pars, opts=opts, T=1, a=1000, Nx=1000,  save_plot=False, show_plot=False, pore_plot=True)"
   ]
  },
  {
   "cell_type": "code",
   "execution_count": null,
   "metadata": {},
   "outputs": [],
   "source": [
    "%matplotlib notebook\n",
    "%matplotlib inline \n",
    "plt.plot(datf['time'],datf['Flow']/1e-9, 'r-', markersize=4)\n",
    "plt.plot(t, y, 'b-', markersize=4, label = 'Matrix')\n",
    "plt.xlim(0,1)\n",
    "plt.xlabel('time')\n",
    "plt.ylabel('Flow')\n",
    "plt.show()"
   ]
  },
  {
   "cell_type": "code",
   "execution_count": null,
   "metadata": {},
   "outputs": [],
   "source": [
    "ka = np.exp(10)\n",
    "kd = np.exp(12)\n",
    "pars=[ka, kd]"
   ]
  },
  {
   "cell_type": "code",
   "execution_count": null,
   "metadata": {},
   "outputs": [],
   "source": [
    "datf = adl.pulse(Diffs, pars=pars, opts=opts, T=1, dt=0.0001, Nx=1000,  save_plot=False, show_plot=False)"
   ]
  },
  {
   "cell_type": "code",
   "execution_count": null,
   "metadata": {},
   "outputs": [],
   "source": [
    "datmat = pt.pulse(Diffs, pars=pars, opts=opts, model = 'rev_ads', T=1, dt=0.0001, Nx=1000)"
   ]
  },
  {
   "cell_type": "code",
   "execution_count": null,
   "metadata": {},
   "outputs": [],
   "source": [
    "%matplotlib notebook\n",
    "%matplotlib inline \n",
    "plt.plot(datf['time'],datf['Flow']/1e-9, 'r-', markersize=4, label = 'Numerical')\n",
    "plt.plot(datmat['time'],datmat['Flow'], 'b-', markersize=4, label = 'Matrix')\n",
    "plt.xlim(0,1)\n",
    "plt.xlabel('time')\n",
    "plt.ylabel('Flow')\n",
    "plt.show()"
   ]
  },
  {
   "cell_type": "code",
   "execution_count": null,
   "metadata": {},
   "outputs": [],
   "source": [
    "datf = mad.pulse(Diffs, pars=pars, opts=opts, T=1, a=1000, Nx=1000,  save_plot=False, show_plot=False, pore_plot=False)"
   ]
  },
  {
   "cell_type": "code",
   "execution_count": 2,
   "metadata": {},
   "outputs": [],
   "source": [
    "import models.Ansol_dless as andl\n",
    "import numpy as np\n",
    "# pars = [1000, 100, 0, 0, 0, 0, 1e-3]\n",
    "pars1 = [10**(-5), 1]\n",
    "pars = [1e3, 1e3, 1e-3]\n",
    "pars2 = [10**5, (10**6), (10**6), (10**5), 10**(5), 10**(4), 10**(-2)]\n",
    "\n",
    "\n",
    "opts1 = [35793650.79*1.75e-6/2, 0.4, 0.4]\n",
    "opts = [1.75e-6/2/5.5, 2*1e-9]\n",
    "\n",
    "# DA = andl.pulse(pars=pars, opts=opts, model='analytical_DAMP', T=4, dt=0.004, Nx=1000,\n",
    "#                  inversion = 'ILap')\n",
    "# Eq = andl.pulse(pars=pars1, opts=opts1, model='analytical_EqMP', T=4, dt=0.01, Nx=1000,\n",
    "#                  inversion = 'ifft')\n",
    "DA = andl.pulse(pars=pars2, opts=opts1, model='analytical_7P', T=10, dt=0.01, Nx=1000,\n",
    "                 inversion = 'ILap')"
   ]
  },
  {
   "cell_type": "code",
   "execution_count": 3,
   "metadata": {},
   "outputs": [
    {
     "data": {
      "image/png": "[encoded data removed]",
      "text/plain": [
       "<Figure size 432x288 with 1 Axes>"
      ]
     },
     "metadata": {
      "needs_background": "light"
     },
     "output_type": "display_data"
    }
   ],
   "source": [
    "import matplotlib.pyplot as plt\n",
    "%matplotlib notebook\n",
    "%matplotlib inline\n",
    "# peaktime = Eq[0][np.argmax(Eq[1])]\n",
    "# lbl=\"Peak time \" + str(peaktime)\n",
    "# Eq[1][Eq[1]<0] = 0\n",
    "# # plt.plot(Eq[0], Eq[1], 'b-', label = lbl)\n",
    "peaktime = DA[0][np.argmax(DA[1])]\n",
    "lbl=\"Peak time \" + str(peaktime)\n",
    "DA[1][DA[1]<0] = 0\n",
    "plt.plot(DA[0], DA[1], 'r-', label = lbl)\n",
    "\n",
    "# # plt.plot(dLap[0], dLap[1], 'b-', label = 'InLap')\n",
    "\n",
    "# peaktime = DA[0][np.argmax(DA[1])]\n",
    "# lbl=\"Peak time \" + str(peaktime)\n",
    "# plt.plot(DA[0], DA[1], 'r-', label = lbl)\n",
    "# plt.plot(sim_data_num['time'], sim_data_num['Flow']/1e-9, 'r-', label = 'Numerical sim pulse')\n",
    "plt.legend()\n",
    "# plt.xlim(0, 4)\n",
    "plt.show()"
   ]
  },
  {
   "cell_type": "code",
   "execution_count": 6,
   "metadata": {},
   "outputs": [],
   "source": [
    "import models.regress as rgr\n",
    "\n",
    "prs = rgr.regress_an(DA[1], DA[0], opts=opts1, model = 'analytical_7P', \n",
    "                     Nx=1000, step = [0.01, 0.01, 0.01, 0.01, 0.01, 0.01, 0.01], init_guess = None)"
   ]
  },
  {
   "cell_type": "code",
   "execution_count": 167,
   "metadata": {},
   "outputs": [
    {
     "name": "stdout",
     "output_type": "stream",
     "text": [
      "[1.84467822 0.01087521]\n"
     ]
    }
   ],
   "source": [
    "print(np.power(10,prs))\n",
    "# pars = [1e2, 1e2, 1e6, 1e6, 0, 0, 1e-3]\n",
    "# opts1 = [35793650.79*1.75e-6/2]\n",
    "sev = andl.pulse(pars=np.power(10,  prs), opts=opts1, model='analytical_7P', T=10, dt=0.01, Nx=1000,\n",
    "                 inversion = 'ILap')"
   ]
  },
  {
   "cell_type": "code",
   "execution_count": 168,
   "metadata": {},
   "outputs": [
    {
     "data": {
      "image/png": "[encoded data removed]",
      "text/plain": [
       "<Figure size 432x288 with 1 Axes>"
      ]
     },
     "metadata": {
      "needs_background": "light"
     },
     "output_type": "display_data"
    }
   ],
   "source": [
    "%matplotlib notebook\n",
    "%matplotlib inline\n",
    "peaktime = sev[0][np.argmax(sev[1])]\n",
    "lbl=\"Peak time \" + str(peaktime)\n",
    "plt.plot(sev[0], sev[1], 'b-', label = 'Equilibrated ads')\n",
    "\n",
    "# plt.plot(dLap[0], dLap[1], 'b-', label = 'InLap')\n",
    "\n",
    "peaktime = DA[0][np.argmax(DA[1])]\n",
    "lbl=\"Peak time \" + str(peaktime)\n",
    "plt.plot(DA[0], DA[1], 'r-', label = 'Dynamic ads')\n",
    "# plt.plot(sim_data_num['time'], sim_data_num['Flow']/1e-9, 'r-', label = 'Numerical sim pulse')\n",
    "plt.legend()\n",
    "plt.xlabel('Dimensionless time')\n",
    "plt.ylabel('Dimensionless Flow')\n",
    "# plt.xlim(0, 4)\n",
    "plt.show()"
   ]
  },
  {
   "cell_type": "code",
   "execution_count": 81,
   "metadata": {},
   "outputs": [],
   "source": [
    "import models.regress as rgr\n",
    "opts1 = [35793650.79*1.75e-6/2, 0.4, 0.4]\n",
    "prs = rgr.regress_an(DA[1], DA[0], opts=opts1, model = 'analytical_EqMP', \n",
    "                     Nx=1000, step = [0.1, 0.1], init_guess = None)"
   ]
  },
  {
   "cell_type": "code",
   "execution_count": 86,
   "metadata": {},
   "outputs": [
    {
     "name": "stdout",
     "output_type": "stream",
     "text": [
      "[7.70821632e-02 1.00000000e-10]\n"
     ]
    }
   ],
   "source": [
    "print(np.power(10, prs))\n",
    "# pars = [1e5, 1e6, 1e6, 1e6, 0, 0, 1]\n",
    "# opts1 = [35793650.79*1.75e-6/2, 0.4, 0.4]\n",
    "# # pars =[10**(-1), 10**2]\n",
    "Eq = andl.pulse(pars=np.power(10, prs), opts=opts1, model='analytical_EqMP', T=4, dt=0.004, Nx=1000,\n",
    "                 inversion = 'ILap')"
   ]
  },
  {
   "cell_type": "code",
   "execution_count": 87,
   "metadata": {},
   "outputs": [
    {
     "data": {
      "image/png": "[encoded data removed]",
      "text/plain": [
       "<Figure size 432x288 with 1 Axes>"
      ]
     },
     "metadata": {
      "needs_background": "light"
     },
     "output_type": "display_data"
    }
   ],
   "source": [
    "%matplotlib notebook\n",
    "%matplotlib inline\n",
    "peaktime = sev[0][np.argmax(sev[1])]\n",
    "lbl=\"Peak time \" + str(peaktime)\n",
    "plt.plot(DA[0], DA[1], 'b-', label = '7P model')\n",
    "\n",
    "# plt.plot(dLap[0], dLap[1], 'b-', label = 'InLap')\n",
    "\n",
    "peaktime = Eq[0][np.argmax(Eq[1])]\n",
    "lbl=\"Peak time \" + str(peaktime)\n",
    "plt.plot(Eq[0], Eq[1], 'r-', label = 'EqAd model')\n",
    "# plt.plot(sim_data_num['time'], sim_data_num['Flow']/1e-9, 'r-', label = 'Numerical sim pulse')\n",
    "# plt.legend()\n",
    "# plt.xlim(0, 4)\n",
    "plt.ylabel('Dimensionless flow')\n",
    "plt.xlabel('Dimensionless time')\n",
    "plt.show()"
   ]
  },
  {
   "cell_type": "code",
   "execution_count": 3,
   "metadata": {},
   "outputs": [
    {
     "data": {
      "text/html": [
       "<div>\n",
       "<style scoped>\n",
       "    .dataframe tbody tr th:only-of-type {\n",
       "        vertical-align: middle;\n",
       "    }\n",
       "\n",
       "    .dataframe tbody tr th {\n",
       "        vertical-align: top;\n",
       "    }\n",
       "\n",
       "    .dataframe thead th {\n",
       "        text-align: right;\n",
       "    }\n",
       "</style>\n",
       "<table border=\"1\" class=\"dataframe\">\n",
       "  <thead>\n",
       "    <tr style=\"text-align: right;\">\n",
       "      <th></th>\n",
       "      <th>Unnamed: 0</th>\n",
       "      <th>-4.9</th>\n",
       "      <th>-4.8</th>\n",
       "      <th>-4.7</th>\n",
       "      <th>-4.6</th>\n",
       "      <th>-4.5</th>\n",
       "      <th>-4.4</th>\n",
       "      <th>-4.3</th>\n",
       "      <th>-4.2</th>\n",
       "      <th>-4.1</th>\n",
       "      <th>...</th>\n",
       "      <th>4.0</th>\n",
       "      <th>4.1</th>\n",
       "      <th>4.200000000000001</th>\n",
       "      <th>4.300000000000001</th>\n",
       "      <th>4.4</th>\n",
       "      <th>4.5</th>\n",
       "      <th>4.600000000000001</th>\n",
       "      <th>4.700000000000001</th>\n",
       "      <th>4.800000000000001</th>\n",
       "      <th>4.9</th>\n",
       "    </tr>\n",
       "  </thead>\n",
       "  <tbody>\n",
       "    <tr>\n",
       "      <th>0</th>\n",
       "      <td>-4.9</td>\n",
       "      <td>1.540126e-03</td>\n",
       "      <td>1.652236e-03</td>\n",
       "      <td>1.777307e-03</td>\n",
       "      <td>2.073874e-03</td>\n",
       "      <td>2.310714e-03</td>\n",
       "      <td>2.526997e-03</td>\n",
       "      <td>2.714340e-03</td>\n",
       "      <td>2.770532e-03</td>\n",
       "      <td>2.714330e-03</td>\n",
       "      <td>...</td>\n",
       "      <td>6.437794e-02</td>\n",
       "      <td>6.431816e-02</td>\n",
       "      <td>6.429176e-02</td>\n",
       "      <td>6.430872e-02</td>\n",
       "      <td>6.430037e-02</td>\n",
       "      <td>6.427267e-02</td>\n",
       "      <td>6.422828e-02</td>\n",
       "      <td>6.422150e-02</td>\n",
       "      <td>6.422133e-02</td>\n",
       "      <td>6.418368e-02</td>\n",
       "    </tr>\n",
       "    <tr>\n",
       "      <th>1</th>\n",
       "      <td>-4.8</td>\n",
       "      <td>1.777307e-03</td>\n",
       "      <td>2.073874e-03</td>\n",
       "      <td>2.310714e-03</td>\n",
       "      <td>2.526997e-03</td>\n",
       "      <td>2.714340e-03</td>\n",
       "      <td>2.770532e-03</td>\n",
       "      <td>2.714330e-03</td>\n",
       "      <td>3.036975e-03</td>\n",
       "      <td>3.021992e-03</td>\n",
       "      <td>...</td>\n",
       "      <td>8.110182e-02</td>\n",
       "      <td>8.107861e-02</td>\n",
       "      <td>8.107414e-02</td>\n",
       "      <td>8.109564e-02</td>\n",
       "      <td>8.111396e-02</td>\n",
       "      <td>8.110052e-02</td>\n",
       "      <td>8.107990e-02</td>\n",
       "      <td>8.106085e-02</td>\n",
       "      <td>8.105346e-02</td>\n",
       "      <td>8.107273e-02</td>\n",
       "    </tr>\n",
       "    <tr>\n",
       "      <th>2</th>\n",
       "      <td>-4.7</td>\n",
       "      <td>2.310714e-03</td>\n",
       "      <td>2.526997e-03</td>\n",
       "      <td>2.714340e-03</td>\n",
       "      <td>2.770532e-03</td>\n",
       "      <td>2.714330e-03</td>\n",
       "      <td>3.036975e-03</td>\n",
       "      <td>3.021992e-03</td>\n",
       "      <td>2.921181e-03</td>\n",
       "      <td>3.189069e-03</td>\n",
       "      <td>...</td>\n",
       "      <td>1.020545e-01</td>\n",
       "      <td>1.020300e-01</td>\n",
       "      <td>1.020350e-01</td>\n",
       "      <td>1.020412e-01</td>\n",
       "      <td>1.020662e-01</td>\n",
       "      <td>1.020607e-01</td>\n",
       "      <td>1.020977e-01</td>\n",
       "      <td>1.021190e-01</td>\n",
       "      <td>1.020912e-01</td>\n",
       "      <td>1.020754e-01</td>\n",
       "    </tr>\n",
       "    <tr>\n",
       "      <th>3</th>\n",
       "      <td>-4.6</td>\n",
       "      <td>2.714340e-03</td>\n",
       "      <td>2.770532e-03</td>\n",
       "      <td>2.714330e-03</td>\n",
       "      <td>3.036975e-03</td>\n",
       "      <td>3.021992e-03</td>\n",
       "      <td>2.921181e-03</td>\n",
       "      <td>3.189069e-03</td>\n",
       "      <td>3.296048e-03</td>\n",
       "      <td>3.327164e-03</td>\n",
       "      <td>...</td>\n",
       "      <td>1.282600e-01</td>\n",
       "      <td>1.282336e-01</td>\n",
       "      <td>1.282628e-01</td>\n",
       "      <td>1.282821e-01</td>\n",
       "      <td>1.282399e-01</td>\n",
       "      <td>1.281935e-01</td>\n",
       "      <td>1.282006e-01</td>\n",
       "      <td>1.281717e-01</td>\n",
       "      <td>1.281413e-01</td>\n",
       "      <td>1.281199e-01</td>\n",
       "    </tr>\n",
       "    <tr>\n",
       "      <th>4</th>\n",
       "      <td>-4.5</td>\n",
       "      <td>2.714330e-03</td>\n",
       "      <td>3.036975e-03</td>\n",
       "      <td>3.021992e-03</td>\n",
       "      <td>2.921181e-03</td>\n",
       "      <td>3.189069e-03</td>\n",
       "      <td>3.296048e-03</td>\n",
       "      <td>3.327164e-03</td>\n",
       "      <td>3.748207e-03</td>\n",
       "      <td>3.966812e-03</td>\n",
       "      <td>...</td>\n",
       "      <td>1.614758e-01</td>\n",
       "      <td>1.614414e-01</td>\n",
       "      <td>1.613885e-01</td>\n",
       "      <td>1.613345e-01</td>\n",
       "      <td>1.613326e-01</td>\n",
       "      <td>1.613349e-01</td>\n",
       "      <td>1.612996e-01</td>\n",
       "      <td>1.612575e-01</td>\n",
       "      <td>1.612579e-01</td>\n",
       "      <td>1.612629e-01</td>\n",
       "    </tr>\n",
       "    <tr>\n",
       "      <th>...</th>\n",
       "      <td>...</td>\n",
       "      <td>...</td>\n",
       "      <td>...</td>\n",
       "      <td>...</td>\n",
       "      <td>...</td>\n",
       "      <td>...</td>\n",
       "      <td>...</td>\n",
       "      <td>...</td>\n",
       "      <td>...</td>\n",
       "      <td>...</td>\n",
       "      <td>...</td>\n",
       "      <td>...</td>\n",
       "      <td>...</td>\n",
       "      <td>...</td>\n",
       "      <td>...</td>\n",
       "      <td>...</td>\n",
       "      <td>...</td>\n",
       "      <td>...</td>\n",
       "      <td>...</td>\n",
       "      <td>...</td>\n",
       "      <td>...</td>\n",
       "    </tr>\n",
       "    <tr>\n",
       "      <th>94</th>\n",
       "      <td>4.5</td>\n",
       "      <td>5.206502e-14</td>\n",
       "      <td>5.403610e-15</td>\n",
       "      <td>1.929389e-15</td>\n",
       "      <td>4.191579e-16</td>\n",
       "      <td>5.491962e-17</td>\n",
       "      <td>4.931184e-18</td>\n",
       "      <td>3.138524e-19</td>\n",
       "      <td>1.419721e-20</td>\n",
       "      <td>4.525741e-22</td>\n",
       "      <td>...</td>\n",
       "      <td>2.880228e-137</td>\n",
       "      <td>2.897914e-137</td>\n",
       "      <td>2.911819e-137</td>\n",
       "      <td>2.923509e-137</td>\n",
       "      <td>2.933370e-137</td>\n",
       "      <td>2.940462e-137</td>\n",
       "      <td>2.945495e-137</td>\n",
       "      <td>2.949813e-137</td>\n",
       "      <td>2.953746e-137</td>\n",
       "      <td>2.957311e-137</td>\n",
       "    </tr>\n",
       "    <tr>\n",
       "      <th>95</th>\n",
       "      <td>4.6</td>\n",
       "      <td>1.929395e-15</td>\n",
       "      <td>4.191584e-16</td>\n",
       "      <td>5.491970e-17</td>\n",
       "      <td>4.931179e-18</td>\n",
       "      <td>3.138524e-19</td>\n",
       "      <td>1.419720e-20</td>\n",
       "      <td>4.525738e-22</td>\n",
       "      <td>1.026785e-23</td>\n",
       "      <td>1.725935e-25</td>\n",
       "      <td>...</td>\n",
       "      <td>8.567430e-154</td>\n",
       "      <td>8.632344e-154</td>\n",
       "      <td>8.670244e-154</td>\n",
       "      <td>8.713865e-154</td>\n",
       "      <td>8.740835e-154</td>\n",
       "      <td>8.763128e-154</td>\n",
       "      <td>8.780626e-154</td>\n",
       "      <td>8.794805e-154</td>\n",
       "      <td>8.804944e-154</td>\n",
       "      <td>8.816911e-154</td>\n",
       "    </tr>\n",
       "    <tr>\n",
       "      <th>96</th>\n",
       "      <td>4.7</td>\n",
       "      <td>5.491958e-17</td>\n",
       "      <td>4.931189e-18</td>\n",
       "      <td>3.138526e-19</td>\n",
       "      <td>1.419718e-20</td>\n",
       "      <td>4.525732e-22</td>\n",
       "      <td>1.026786e-23</td>\n",
       "      <td>1.725941e-25</td>\n",
       "      <td>1.749451e-27</td>\n",
       "      <td>1.382153e-29</td>\n",
       "      <td>...</td>\n",
       "      <td>3.111379e-172</td>\n",
       "      <td>3.131635e-172</td>\n",
       "      <td>3.150777e-172</td>\n",
       "      <td>3.164202e-172</td>\n",
       "      <td>3.172896e-172</td>\n",
       "      <td>3.183982e-172</td>\n",
       "      <td>3.189807e-172</td>\n",
       "      <td>3.196352e-172</td>\n",
       "      <td>3.199817e-172</td>\n",
       "      <td>3.203662e-172</td>\n",
       "    </tr>\n",
       "    <tr>\n",
       "      <th>97</th>\n",
       "      <td>4.8</td>\n",
       "      <td>3.138522e-19</td>\n",
       "      <td>1.419721e-20</td>\n",
       "      <td>4.525734e-22</td>\n",
       "      <td>1.026784e-23</td>\n",
       "      <td>1.725938e-25</td>\n",
       "      <td>1.749544e-27</td>\n",
       "      <td>1.382289e-29</td>\n",
       "      <td>3.561702e-31</td>\n",
       "      <td>1.840528e-32</td>\n",
       "      <td>...</td>\n",
       "      <td>4.389034e-193</td>\n",
       "      <td>4.410806e-193</td>\n",
       "      <td>4.432398e-193</td>\n",
       "      <td>4.443830e-193</td>\n",
       "      <td>4.456174e-193</td>\n",
       "      <td>4.468766e-193</td>\n",
       "      <td>4.475078e-193</td>\n",
       "      <td>4.484496e-193</td>\n",
       "      <td>4.486066e-193</td>\n",
       "      <td>4.488800e-193</td>\n",
       "    </tr>\n",
       "    <tr>\n",
       "      <th>98</th>\n",
       "      <td>4.9</td>\n",
       "      <td>4.525735e-22</td>\n",
       "      <td>1.026785e-23</td>\n",
       "      <td>1.725933e-25</td>\n",
       "      <td>1.749542e-27</td>\n",
       "      <td>1.382039e-29</td>\n",
       "      <td>3.561514e-31</td>\n",
       "      <td>1.840512e-32</td>\n",
       "      <td>5.255390e-34</td>\n",
       "      <td>5.426802e-36</td>\n",
       "      <td>...</td>\n",
       "      <td>2.859314e-216</td>\n",
       "      <td>2.887978e-216</td>\n",
       "      <td>2.911645e-216</td>\n",
       "      <td>2.931569e-216</td>\n",
       "      <td>2.946859e-216</td>\n",
       "      <td>2.960895e-216</td>\n",
       "      <td>2.966478e-216</td>\n",
       "      <td>2.974645e-216</td>\n",
       "      <td>2.980734e-216</td>\n",
       "      <td>2.987610e-216</td>\n",
       "    </tr>\n",
       "  </tbody>\n",
       "</table>\n",
       "<p>99 rows × 100 columns</p>\n",
       "</div>"
      ],
      "text/plain": [
       "    Unnamed: 0          -4.9          -4.8          -4.7          -4.6  \\\n",
       "0         -4.9  1.540126e-03  1.652236e-03  1.777307e-03  2.073874e-03   \n",
       "1         -4.8  1.777307e-03  2.073874e-03  2.310714e-03  2.526997e-03   \n",
       "2         -4.7  2.310714e-03  2.526997e-03  2.714340e-03  2.770532e-03   \n",
       "3         -4.6  2.714340e-03  2.770532e-03  2.714330e-03  3.036975e-03   \n",
       "4         -4.5  2.714330e-03  3.036975e-03  3.021992e-03  2.921181e-03   \n",
       "..         ...           ...           ...           ...           ...   \n",
       "94         4.5  5.206502e-14  5.403610e-15  1.929389e-15  4.191579e-16   \n",
       "95         4.6  1.929395e-15  4.191584e-16  5.491970e-17  4.931179e-18   \n",
       "96         4.7  5.491958e-17  4.931189e-18  3.138526e-19  1.419718e-20   \n",
       "97         4.8  3.138522e-19  1.419721e-20  4.525734e-22  1.026784e-23   \n",
       "98         4.9  4.525735e-22  1.026785e-23  1.725933e-25  1.749542e-27   \n",
       "\n",
       "            -4.5          -4.4          -4.3          -4.2          -4.1  ...  \\\n",
       "0   2.310714e-03  2.526997e-03  2.714340e-03  2.770532e-03  2.714330e-03  ...   \n",
       "1   2.714340e-03  2.770532e-03  2.714330e-03  3.036975e-03  3.021992e-03  ...   \n",
       "2   2.714330e-03  3.036975e-03  3.021992e-03  2.921181e-03  3.189069e-03  ...   \n",
       "3   3.021992e-03  2.921181e-03  3.189069e-03  3.296048e-03  3.327164e-03  ...   \n",
       "4   3.189069e-03  3.296048e-03  3.327164e-03  3.748207e-03  3.966812e-03  ...   \n",
       "..           ...           ...           ...           ...           ...  ...   \n",
       "94  5.491962e-17  4.931184e-18  3.138524e-19  1.419721e-20  4.525741e-22  ...   \n",
       "95  3.138524e-19  1.419720e-20  4.525738e-22  1.026785e-23  1.725935e-25  ...   \n",
       "96  4.525732e-22  1.026786e-23  1.725941e-25  1.749451e-27  1.382153e-29  ...   \n",
       "97  1.725938e-25  1.749544e-27  1.382289e-29  3.561702e-31  1.840528e-32  ...   \n",
       "98  1.382039e-29  3.561514e-31  1.840512e-32  5.255390e-34  5.426802e-36  ...   \n",
       "\n",
       "              4.0            4.1  4.200000000000001  4.300000000000001  \\\n",
       "0    6.437794e-02   6.431816e-02       6.429176e-02       6.430872e-02   \n",
       "1    8.110182e-02   8.107861e-02       8.107414e-02       8.109564e-02   \n",
       "2    1.020545e-01   1.020300e-01       1.020350e-01       1.020412e-01   \n",
       "3    1.282600e-01   1.282336e-01       1.282628e-01       1.282821e-01   \n",
       "4    1.614758e-01   1.614414e-01       1.613885e-01       1.613345e-01   \n",
       "..            ...            ...                ...                ...   \n",
       "94  2.880228e-137  2.897914e-137      2.911819e-137      2.923509e-137   \n",
       "95  8.567430e-154  8.632344e-154      8.670244e-154      8.713865e-154   \n",
       "96  3.111379e-172  3.131635e-172      3.150777e-172      3.164202e-172   \n",
       "97  4.389034e-193  4.410806e-193      4.432398e-193      4.443830e-193   \n",
       "98  2.859314e-216  2.887978e-216      2.911645e-216      2.931569e-216   \n",
       "\n",
       "              4.4            4.5  4.600000000000001  4.700000000000001  \\\n",
       "0    6.430037e-02   6.427267e-02       6.422828e-02       6.422150e-02   \n",
       "1    8.111396e-02   8.110052e-02       8.107990e-02       8.106085e-02   \n",
       "2    1.020662e-01   1.020607e-01       1.020977e-01       1.021190e-01   \n",
       "3    1.282399e-01   1.281935e-01       1.282006e-01       1.281717e-01   \n",
       "4    1.613326e-01   1.613349e-01       1.612996e-01       1.612575e-01   \n",
       "..            ...            ...                ...                ...   \n",
       "94  2.933370e-137  2.940462e-137      2.945495e-137      2.949813e-137   \n",
       "95  8.740835e-154  8.763128e-154      8.780626e-154      8.794805e-154   \n",
       "96  3.172896e-172  3.183982e-172      3.189807e-172      3.196352e-172   \n",
       "97  4.456174e-193  4.468766e-193      4.475078e-193      4.484496e-193   \n",
       "98  2.946859e-216  2.960895e-216      2.966478e-216      2.974645e-216   \n",
       "\n",
       "    4.800000000000001            4.9  \n",
       "0        6.422133e-02   6.418368e-02  \n",
       "1        8.105346e-02   8.107273e-02  \n",
       "2        1.020912e-01   1.020754e-01  \n",
       "3        1.281413e-01   1.281199e-01  \n",
       "4        1.612579e-01   1.612629e-01  \n",
       "..                ...            ...  \n",
       "94      2.953746e-137  2.957311e-137  \n",
       "95      8.804944e-154  8.816911e-154  \n",
       "96      3.199817e-172  3.203662e-172  \n",
       "97      4.486066e-193  4.488800e-193  \n",
       "98      2.980734e-216  2.987610e-216  \n",
       "\n",
       "[99 rows x 100 columns]"
      ]
     },
     "execution_count": 3,
     "metadata": {},
     "output_type": "execute_result"
    }
   ],
   "source": [
    "import pandas as pd\n",
    "pd.read_csv('saved/1ZEqMP_sensitivity_log_m5p5.csv', skiprows = None)"
   ]
  },
  {
   "cell_type": "code",
   "execution_count": 8,
   "metadata": {},
   "outputs": [
    {
     "data": {
      "text/plain": [
       "array([ 10. ,   9.8,   9.6,   9.4,   9.2,   9. ,   8.8,   8.6,   8.4,\n",
       "         8.2,   8. ,   7.8,   7.6,   7.4,   7.2,   7. ,   6.8,   6.6,\n",
       "         6.4,   6.2,   6. ,   5.8,   5.6,   5.4,   5.2,   5. ,   4.8,\n",
       "         4.6,   4.4,   4.2,   4. ,   3.8,   3.6,   3.4,   3.2,   3. ,\n",
       "         2.8,   2.6,   2.4,   2.2,   2. ,   1.8,   1.6,   1.4,   1.2,\n",
       "         1. ,   0.8,   0.6,   0.4,   0.2,   0. ,  -0.2,  -0.4,  -0.6,\n",
       "        -0.8,  -1. ,  -1.2,  -1.4,  -1.6,  -1.8,  -2. ,  -2.2,  -2.4,\n",
       "        -2.6,  -2.8,  -3. ,  -3.2,  -3.4,  -3.6,  -3.8,  -4. ,  -4.2,\n",
       "        -4.4,  -4.6,  -4.8,  -5. ,  -5.2,  -5.4,  -5.6,  -5.8,  -6. ,\n",
       "        -6.2,  -6.4,  -6.6,  -6.8,  -7. ,  -7.2,  -7.4,  -7.6,  -7.8,\n",
       "        -8. ,  -8.2,  -8.4,  -8.6,  -8.8,  -9. ,  -9.2,  -9.4,  -9.6,\n",
       "        -9.8, -10. ])"
      ]
     },
     "execution_count": 8,
     "metadata": {},
     "output_type": "execute_result"
    }
   ],
   "source": [
    "KH_lim = [10, -10]\n",
    "KH_sim = np.linspace(KH_lim[0], KH_lim[1], 101)\n",
    "KH_sim"
   ]
  }
 ],
 "metadata": {
  "kernelspec": {
   "display_name": "Python 3 (ipykernel)",
   "language": "python",
   "name": "python3"
  },
  "language_info": {
   "codemirror_mode": {
    "name": "ipython",
    "version": 3
   },
   "file_extension": ".py",
   "mimetype": "text/x-python",
   "name": "python",
   "nbconvert_exporter": "python",
   "pygments_lexer": "ipython3",
   "version": "3.9.12"
  }
 },
 "nbformat": 4,
 "nbformat_minor": 4
}
